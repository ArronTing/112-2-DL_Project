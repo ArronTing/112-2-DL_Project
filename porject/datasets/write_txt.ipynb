{
 "cells": [
  {
   "cell_type": "code",
   "execution_count": 16,
   "id": "d8cecaa5",
   "metadata": {},
   "outputs": [],
   "source": [
    "import os\n",
    "\n",
    "# 指定目錄路徑\n",
    "directory = \"images/train/\"\n",
    "\n",
    "# 打開要寫入的txt檔案\n",
    "with open(\"train_list.txt\", \"w\") as f:\n",
    "    # 遍歷目錄中的檔案\n",
    "    for filename in os.listdir(directory):\n",
    "        # 確保檔案是以.jpg結尾的圖像檔案\n",
    "        if filename.endswith(\".jpg\"):\n",
    "            # 將檔案的完整路徑寫入txt檔案\n",
    "            file_path = os.path.join(directory, filename)\n",
    "            f.write(\"datasets/\" + file_path + \"\\n\")"
   ]
  },
  {
   "cell_type": "code",
   "execution_count": 17,
   "id": "c295b04d",
   "metadata": {},
   "outputs": [],
   "source": [
    "# 指定目錄路徑\n",
    "directory = \"images/val/\"\n",
    "\n",
    "# 打開要寫入的txt檔案\n",
    "with open(\"val_list.txt\", \"w\") as f:\n",
    "    # 遍歷目錄中的檔案\n",
    "    for filename in os.listdir(directory):\n",
    "        # 確保檔案是以.jpg結尾的圖像檔案\n",
    "        if filename.endswith(\".jpg\"):\n",
    "            # 將檔案的完整路徑寫入txt檔案\n",
    "            file_path = os.path.join(directory, filename)\n",
    "            f.write(\"datasets/\" + file_path + \"\\n\")"
   ]
  },
  {
   "cell_type": "code",
   "execution_count": 9,
   "id": "03e02218",
   "metadata": {},
   "outputs": [
    {
     "data": {
      "text/plain": [
       "'C:\\\\Users\\\\a0972\\\\yolov7\\\\datasets'"
      ]
     },
     "execution_count": 9,
     "metadata": {},
     "output_type": "execute_result"
    }
   ],
   "source": [
    "pwd"
   ]
  },
  {
   "cell_type": "code",
   "execution_count": null,
   "id": "c8fa89c4",
   "metadata": {},
   "outputs": [],
   "source": []
  }
 ],
 "metadata": {
  "kernelspec": {
   "display_name": "Python 3 (ipykernel)",
   "language": "python",
   "name": "python3"
  },
  "language_info": {
   "codemirror_mode": {
    "name": "ipython",
    "version": 3
   },
   "file_extension": ".py",
   "mimetype": "text/x-python",
   "name": "python",
   "nbconvert_exporter": "python",
   "pygments_lexer": "ipython3",
   "version": "3.11.5"
  }
 },
 "nbformat": 4,
 "nbformat_minor": 5
}
